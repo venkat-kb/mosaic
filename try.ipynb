{
 "cells": [
  {
   "cell_type": "code",
   "execution_count": 52,
   "id": "c12958db",
   "metadata": {},
   "outputs": [],
   "source": [
    "import spacy\n",
    "import json"
   ]
  },
  {
   "cell_type": "code",
   "execution_count": 53,
   "id": "8064ed9f",
   "metadata": {},
   "outputs": [],
   "source": [
    "nlp = spacy.load(\"en_core_web_lg\")"
   ]
  },
  {
   "cell_type": "code",
   "execution_count": 61,
   "id": "e94d7b36",
   "metadata": {},
   "outputs": [],
   "source": [
    "categories = []\n",
    "\n",
    "with open(\"categories_data.json\", \"r\") as file:\n",
    "  data = json.load(file)\n",
    "\n",
    "  for i in data:\n",
    "    categories.append(i)"
   ]
  },
  {
   "cell_type": "code",
   "execution_count": 55,
   "id": "c5de6253",
   "metadata": {},
   "outputs": [],
   "source": [
    "case_data = []\n",
    "\n",
    "with open(\"case_data.json\", \"r\") as file:\n",
    "  data = json.load(file)\n",
    "\n",
    "  for case in data:\n",
    "    case_data.append(case)"
   ]
  },
  {
   "cell_type": "code",
   "execution_count": 62,
   "id": "746dbe82",
   "metadata": {},
   "outputs": [
    {
     "name": "stdout",
     "output_type": "stream",
     "text": [
      "46\n"
     ]
    }
   ],
   "source": [
    "print(len(categories))\n",
    "# print(len(case_data))"
   ]
  },
  {
   "cell_type": "code",
   "execution_count": 57,
   "id": "1da2430f",
   "metadata": {},
   "outputs": [],
   "source": [
    "alpha = 0.5"
   ]
  },
  {
   "cell_type": "code",
   "execution_count": 58,
   "id": "46050d61",
   "metadata": {},
   "outputs": [
    {
     "name": "stdout",
     "output_type": "stream",
     "text": [
      "2\n"
     ]
    }
   ],
   "source": [
    "max_thread_len = max(len(case[\"thread\"]) for case in case_data)\n",
    "print(max_thread_len)"
   ]
  },
  {
   "cell_type": "code",
   "execution_count": 59,
   "id": "3a4272c0",
   "metadata": {},
   "outputs": [],
   "source": [
    "for case in case_data:\n",
    "  case_description = case[\"case_detail\"]\n",
    "  case_description = nlp(case_description)\n",
    "\n",
    "  max_score = 0\n",
    "  selected_category = 0\n",
    "  total_weights = 0\n",
    "\n",
    "  for category in categories:\n",
    "    category_nlp = nlp(category[\"name\"])\n",
    "\n",
    "    similarity = case_description.similarity(category_nlp)\n",
    "\n",
    "    total_weights += category[\"semantic_weight\"]\n",
    "\n",
    "    if (similarity > max_score):\n",
    "      max_score = similarity\n",
    "      selected_category = category\n",
    "    \n",
    "  case[\"case_category\"] = selected_category\n",
    "\n",
    "  category_weight = selected_category[\"semantic_weight\"] / total_weights\n",
    "  \n",
    "  final_score = (alpha * category_weight) + ((1 - alpha) * max_score) + (len(case[\"thread\"]) / max_thread_len)\n",
    "\n",
    "  case[\"score\"] = final_score\n",
    "\n",
    "  priority = \"\"\n",
    "\n",
    "  if (final_score < (2/3)):\n",
    "    priority = \"low\"\n",
    "  elif (final_score < (4/3) and final_score > (2/3)):\n",
    "    priority = \"medium\"\n",
    "  else:\n",
    "    priority = \"high\"\n",
    "\n",
    "  case[\"priority\"] = priority"
   ]
  },
  {
   "cell_type": "code",
   "execution_count": 60,
   "id": "2a79f50e",
   "metadata": {},
   "outputs": [
    {
     "data": {
      "text/plain": [
       "[{'case_no': 'CASE-001',\n",
       "  'case_category': {'name': 'Water Leak/Flooding', 'semantic_weight': 4.9},\n",
       "  'case_detail': 'No water supply for 3 days',\n",
       "  'problem_start': '2023-06-10 08:00:00',\n",
       "  'location': 'Lucknow',\n",
       "  'priority': 'high',\n",
       "  'score': 1.3353563875391863,\n",
       "  'status': 'open',\n",
       "  'thread': [{'caller_name': 'Aarav Sharma',\n",
       "    'caller_phone_no': '9876543210',\n",
       "    'description': 'No water in Gomti Nagar since Monday',\n",
       "    'location': 'Lucknow',\n",
       "    'date_time': '2023-06-10T09:23:45'},\n",
       "   {'caller_name': 'Priya Singh',\n",
       "    'caller_phone_no': '9567843210',\n",
       "    'description': 'Water supply not restored in sector 5',\n",
       "    'location': 'Lucknow',\n",
       "    'date_time': '2023-06-10T11:45:30'}]},\n",
       " {'case_no': 'CASE-002',\n",
       "  'case_category': {'name': 'HVAC System Failure', 'semantic_weight': 2.2},\n",
       "  'case_detail': 'Power outage in colony',\n",
       "  'problem_start': '2023-06-11 19:30:00',\n",
       "  'location': 'Kanpur',\n",
       "  'priority': 'medium',\n",
       "  'score': 1.282350537261114,\n",
       "  'status': 'open',\n",
       "  'thread': [{'caller_name': 'Vihaan Gupta',\n",
       "    'caller_phone_no': '9456723180',\n",
       "    'description': 'No electricity in Swaroop Nagar',\n",
       "    'location': 'Kanpur',\n",
       "    'date_time': '2023-06-11T20:15:00'},\n",
       "   {'caller_name': 'Neha Patel',\n",
       "    'caller_phone_no': '9234567810',\n",
       "    'description': 'Power cut affecting entire block',\n",
       "    'location': 'Kanpur',\n",
       "    'date_time': '2023-06-11T21:30:45'}]},\n",
       " {'case_no': 'CASE-003',\n",
       "  'case_category': {'name': 'Data Security Concerns', 'semantic_weight': 7.3},\n",
       "  'case_detail': 'Garbage not collected',\n",
       "  'problem_start': '2023-06-05 00:00:00',\n",
       "  'location': 'Varanasi',\n",
       "  'priority': 'medium',\n",
       "  'score': 0.7674408621361044,\n",
       "  'status': 'open',\n",
       "  'thread': [{'caller_name': 'Diya Mishra',\n",
       "    'caller_phone_no': '9345678210',\n",
       "    'description': 'Garbage piling up near Assi Ghat',\n",
       "    'location': 'Varanasi',\n",
       "    'date_time': '2023-06-05T10:30:00'}]},\n",
       " {'case_no': 'CASE-004',\n",
       "  'case_category': {'name': 'Transportation Issues', 'semantic_weight': 2.1},\n",
       "  'case_detail': 'Potholes on main road',\n",
       "  'problem_start': '2023-06-08 00:00:00',\n",
       "  'location': 'Agra',\n",
       "  'priority': 'medium',\n",
       "  'score': 0.7662985039793927,\n",
       "  'status': 'open',\n",
       "  'thread': [{'caller_name': 'Ananya Dubey',\n",
       "    'caller_phone_no': '9456783210',\n",
       "    'description': 'Large potholes near Taj East Gate road',\n",
       "    'location': 'Agra',\n",
       "    'date_time': '2023-06-08T09:15:00'}]},\n",
       " {'case_no': 'CASE-005',\n",
       "  'case_category': {'name': 'Fire Hazard', 'semantic_weight': 10.0},\n",
       "  'case_detail': 'Stray dog menace',\n",
       "  'problem_start': '2023-06-12 07:00:00',\n",
       "  'location': 'Meerut',\n",
       "  'priority': 'medium',\n",
       "  'score': 0.7501700944103316,\n",
       "  'status': 'open',\n",
       "  'thread': [{'caller_name': 'Riya Pandey',\n",
       "    'caller_phone_no': '9785634210',\n",
       "    'description': 'Stray dogs attacking people near park',\n",
       "    'location': 'Meerut',\n",
       "    'date_time': '2023-06-12T08:30:00'}]},\n",
       " {'case_no': 'CASE-006',\n",
       "  'case_category': {'name': 'Water Leak/Flooding', 'semantic_weight': 4.9},\n",
       "  'case_detail': 'Contaminated water',\n",
       "  'problem_start': '2023-06-15 06:00:00',\n",
       "  'location': 'Allahabad',\n",
       "  'priority': 'medium',\n",
       "  'score': 0.8874468833640001,\n",
       "  'status': 'open',\n",
       "  'thread': [{'caller_name': 'Aditya Shukla',\n",
       "    'caller_phone_no': '9123784560',\n",
       "    'description': 'Brown colored water coming from taps',\n",
       "    'location': 'Allahabad',\n",
       "    'date_time': '2023-06-15T07:45:00'}]},\n",
       " {'case_no': 'CASE-007',\n",
       "  'case_category': {'name': 'Electrical Hazard', 'semantic_weight': 8.8},\n",
       "  'case_detail': 'Voltage fluctuations',\n",
       "  'problem_start': '2023-06-14 18:00:00',\n",
       "  'location': 'Ghaziabad',\n",
       "  'priority': 'medium',\n",
       "  'score': 0.7920637014736547,\n",
       "  'status': 'open',\n",
       "  'thread': [{'caller_name': 'Arjun Tiwari',\n",
       "    'caller_phone_no': '9123456780',\n",
       "    'description': 'Appliances getting damaged due to voltage issues',\n",
       "    'location': 'Ghaziabad',\n",
       "    'date_time': '2023-06-14T19:30:00'}]},\n",
       " {'case_no': 'CASE-008',\n",
       "  'case_category': {'name': 'Water Leak/Flooding', 'semantic_weight': 4.9},\n",
       "  'case_detail': 'Sewage overflow',\n",
       "  'problem_start': '2023-06-13 00:00:00',\n",
       "  'location': 'Noida',\n",
       "  'priority': 'medium',\n",
       "  'score': 0.857566627903261,\n",
       "  'status': 'open',\n",
       "  'thread': [{'caller_name': 'Ishaan Srivastava',\n",
       "    'caller_phone_no': '9678543210',\n",
       "    'description': 'Sewage water flooding Sector 62 road',\n",
       "    'location': 'Noida',\n",
       "    'date_time': '2023-06-13T08:15:00'}]},\n",
       " {'case_no': 'CASE-009',\n",
       "  'case_category': {'name': 'Poor Lighting', 'semantic_weight': 3.6},\n",
       "  'case_detail': 'Street lights not working',\n",
       "  'problem_start': '2023-06-16 19:00:00',\n",
       "  'location': 'Aligarh',\n",
       "  'priority': 'medium',\n",
       "  'score': 0.8544742146634168,\n",
       "  'status': 'open',\n",
       "  'thread': [{'caller_name': 'Kavya Verma',\n",
       "    'caller_phone_no': '9345612780',\n",
       "    'description': 'Complete darkness on university road',\n",
       "    'location': 'Aligarh',\n",
       "    'date_time': '2023-06-16T20:30:00'}]},\n",
       " {'case_no': 'CASE-010',\n",
       "  'case_category': {'name': 'Safety Violations', 'semantic_weight': 8.2},\n",
       "  'case_detail': 'Illegal construction',\n",
       "  'problem_start': '2023-06-17 10:00:00',\n",
       "  'location': 'Moradabad',\n",
       "  'priority': 'medium',\n",
       "  'score': 0.8110380606498284,\n",
       "  'status': 'open',\n",
       "  'thread': [{'caller_name': 'Suresh Kumar',\n",
       "    'caller_phone_no': '9456123780',\n",
       "    'description': 'Unauthorized building in residential zone',\n",
       "    'location': 'Moradabad',\n",
       "    'date_time': '2023-06-17T11:45:00'}]}]"
      ]
     },
     "execution_count": 60,
     "metadata": {},
     "output_type": "execute_result"
    }
   ],
   "source": [
    "case_data"
   ]
  },
  {
   "cell_type": "code",
   "execution_count": null,
   "id": "21d3b19a",
   "metadata": {},
   "outputs": [],
   "source": []
  }
 ],
 "metadata": {
  "kernelspec": {
   "display_name": "venv",
   "language": "python",
   "name": "python3"
  },
  "language_info": {
   "codemirror_mode": {
    "name": "ipython",
    "version": 3
   },
   "file_extension": ".py",
   "mimetype": "text/x-python",
   "name": "python",
   "nbconvert_exporter": "python",
   "pygments_lexer": "ipython3",
   "version": "3.13.3"
  }
 },
 "nbformat": 4,
 "nbformat_minor": 5
}
